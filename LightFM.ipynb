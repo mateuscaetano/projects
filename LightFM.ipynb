{
 "cells": [
  {
   "cell_type": "code",
   "execution_count": 2,
   "metadata": {},
   "outputs": [],
   "source": [
    "import numpy as np\n",
    "import pandas as pd\n",
    "from lightfm.datasets import fetch_movielens"
   ]
  },
  {
   "cell_type": "code",
   "execution_count": 3,
   "metadata": {},
   "outputs": [
    {
     "data": {
      "text/plain": [
       "dict_keys(['train', 'test', 'item_features', 'item_feature_labels', 'item_labels'])"
      ]
     },
     "execution_count": 3,
     "metadata": {},
     "output_type": "execute_result"
    }
   ],
   "source": [
    "movielens = fetch_movielens()\n",
    "movielens.keys()"
   ]
  },
  {
   "cell_type": "markdown",
   "metadata": {},
   "source": [
    "The lightfm library provides out of the box a train/test split, which can be accessed through:"
   ]
  },
  {
   "cell_type": "code",
   "execution_count": 30,
   "metadata": {},
   "outputs": [],
   "source": [
    "train = movielens['train']\n",
    "test = movielens['test']\n",
    "item_features = movielens['item_features']\n",
    "item_feature_labels = movielens['item_feature_labels']\n",
    "item_labels = movielens['item_labels']"
   ]
  },
  {
   "cell_type": "markdown",
   "metadata": {},
   "source": [
    "There are 943 users, 1682 movies.\n",
    "\n",
    "The train set has 90570 ratings and the test set has 9430.\n",
    "\n",
    "These elements are stored as sparse matrices due to the large numbers of 0s (combinations of users/movies without ratings)"
   ]
  },
  {
   "cell_type": "markdown",
   "metadata": {},
   "source": [
    "# Model"
   ]
  },
  {
   "cell_type": "code",
   "execution_count": 34,
   "metadata": {},
   "outputs": [
    {
     "name": "stdout",
     "output_type": "stream",
     "text": [
      "Precision: train 0.58, test 0.20.\n",
      "AUC: train 0.89, test 0.88.\n"
     ]
    }
   ],
   "source": [
    "from lightfm import LightFM\n",
    "from lightfm.evaluation import precision_at_k\n",
    "from lightfm.evaluation import auc_score\n",
    "\n",
    "model = LightFM(learning_rate=0.05, loss='bpr')\n",
    "model.fit(train, epochs=10)\n",
    "\n",
    "train_precision = precision_at_k(model, train, k=10).mean()\n",
    "test_precision = precision_at_k(model, test, k=10, train_interactions=train).mean()\n",
    "\n",
    "train_auc = auc_score(model, train).mean()\n",
    "test_auc = auc_score(model, test, train_interactions=train).mean()\n",
    "\n",
    "print('Precision: train %.2f, test %.2f.' % (train_precision, test_precision))\n",
    "print('AUC: train %.2f, test %.2f.' % (train_auc, test_auc))"
   ]
  },
  {
   "cell_type": "code",
   "execution_count": 8,
   "metadata": {},
   "outputs": [
    {
     "name": "stdout",
     "output_type": "stream",
     "text": [
      "  (0, 19)\t4\n",
      "  (0, 32)\t4\n",
      "  (0, 60)\t4\n",
      "  (0, 116)\t3\n",
      "  (0, 154)\t2\n",
      "  (0, 159)\t4\n",
      "  (0, 170)\t5\n",
      "  (0, 188)\t3\n",
      "  (0, 201)\t5\n",
      "  (0, 264)\t4\n",
      "  (1, 12)\t4\n",
      "  (1, 49)\t5\n",
      "  (1, 250)\t5\n",
      "  (1, 279)\t3\n",
      "  (1, 280)\t3\n",
      "  (1, 289)\t3\n",
      "  (1, 291)\t4\n",
      "  (1, 296)\t4\n",
      "  (1, 311)\t3\n",
      "  (1, 313)\t1\n",
      "  (2, 244)\t1\n",
      "  (2, 293)\t2\n",
      "  (2, 322)\t2\n",
      "  (2, 327)\t5\n",
      "  (2, 330)\t4\n",
      "  :\t:\n",
      "  (940, 180)\t5\n",
      "  (940, 256)\t4\n",
      "  (940, 257)\t4\n",
      "  (940, 474)\t4\n",
      "  (940, 992)\t4\n",
      "  (941, 116)\t4\n",
      "  (941, 199)\t4\n",
      "  (941, 260)\t4\n",
      "  (941, 322)\t3\n",
      "  (941, 422)\t5\n",
      "  (941, 426)\t5\n",
      "  (941, 486)\t4\n",
      "  (941, 583)\t4\n",
      "  (941, 603)\t4\n",
      "  (941, 614)\t3\n",
      "  (942, 10)\t4\n",
      "  (942, 57)\t4\n",
      "  (942, 110)\t4\n",
      "  (942, 185)\t5\n",
      "  (942, 214)\t5\n",
      "  (942, 231)\t4\n",
      "  (942, 355)\t4\n",
      "  (942, 569)\t1\n",
      "  (942, 807)\t4\n",
      "  (942, 1066)\t2\n"
     ]
    }
   ],
   "source": [
    "print(test)"
   ]
  },
  {
   "cell_type": "code",
   "execution_count": 16,
   "metadata": {},
   "outputs": [
    {
     "data": {
      "text/plain": [
       "array([  19,   32,   60, ...,  569,  807, 1066])"
      ]
     },
     "execution_count": 16,
     "metadata": {},
     "output_type": "execute_result"
    }
   ],
   "source": [
    "test.col"
   ]
  },
  {
   "cell_type": "code",
   "execution_count": 38,
   "metadata": {},
   "outputs": [],
   "source": [
    "prediction=model.predict(user_ids=test.row, item_ids=test.col)"
   ]
  },
  {
   "cell_type": "code",
   "execution_count": 42,
   "metadata": {},
   "outputs": [
    {
     "data": {
      "text/plain": [
       "array([-4.901043 , -4.1578956, -4.6789007, -3.5722992, -4.2807946,\n",
       "       -4.269999 , -4.2337465, -4.028219 , -3.1322682, -3.8462079],\n",
       "      dtype=float32)"
      ]
     },
     "execution_count": 42,
     "metadata": {},
     "output_type": "execute_result"
    }
   ],
   "source": [
    "# Predictions are relative orders\n",
    "prediction[0:10]"
   ]
  },
  {
   "cell_type": "code",
   "execution_count": 39,
   "metadata": {},
   "outputs": [
    {
     "data": {
      "text/plain": [
       "9430"
      ]
     },
     "execution_count": 39,
     "metadata": {},
     "output_type": "execute_result"
    }
   ],
   "source": [
    "len(prediction)"
   ]
  }
 ],
 "metadata": {
  "kernelspec": {
   "display_name": ".venv",
   "language": "python",
   "name": "python3"
  },
  "language_info": {
   "codemirror_mode": {
    "name": "ipython",
    "version": 3
   },
   "file_extension": ".py",
   "mimetype": "text/x-python",
   "name": "python",
   "nbconvert_exporter": "python",
   "pygments_lexer": "ipython3",
   "version": "3.9.21"
  }
 },
 "nbformat": 4,
 "nbformat_minor": 2
}
