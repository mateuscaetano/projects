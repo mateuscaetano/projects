{
 "cells": [
  {
   "cell_type": "code",
   "execution_count": 1,
   "id": "b50ca3e7",
   "metadata": {},
   "outputs": [
    {
     "name": "stderr",
     "output_type": "stream",
     "text": [
      "c:\\Users\\mateu\\anaconda3\\envs\\.venv\\lib\\site-packages\\tqdm\\auto.py:21: TqdmWarning: IProgress not found. Please update jupyter and ipywidgets. See https://ipywidgets.readthedocs.io/en/stable/user_install.html\n",
      "  from .autonotebook import tqdm as notebook_tqdm\n"
     ]
    }
   ],
   "source": [
    "import cornac\n",
    "\n",
    "# Load a sample dataset (e.g., MovieLens)\n",
    "ml_100k = cornac.datasets.movielens.load_feedback()"
   ]
  },
  {
   "cell_type": "code",
   "execution_count": 166,
   "id": "2b9cfe40",
   "metadata": {},
   "outputs": [],
   "source": [
    "from cornac.eval_methods import RatioSplit\n",
    "\n",
    "# Split the data into training and testing sets\n",
    "rs = RatioSplit(data=ml_100k, test_size=0.2, rating_threshold=4.0, seed=123)"
   ]
  },
  {
   "cell_type": "code",
   "execution_count": 167,
   "id": "fdf8f43d",
   "metadata": {},
   "outputs": [
    {
     "name": "stdout",
     "output_type": "stream",
     "text": [
      "\n",
      "TEST:\n",
      "...\n",
      "      |    MAE |   RMSE | Precision@10 | Recall@10 | Train (s) | Test (s)\n",
      "----- + ------ + ------ + ------------ + --------- + --------- + --------\n",
      "BPR   | 2.0143 | 2.2267 |       0.1110 |    0.1195 |    1.3603 |   3.6942\n",
      "PMF   | 0.7534 | 0.9138 |       0.0813 |    0.0639 |    2.1885 |   0.3320\n",
      "VAECF | 2.5756 | 2.7652 |       0.1534 |    0.1686 |    9.3684 |   3.9545\n",
      "\n"
     ]
    }
   ],
   "source": [
    "import cornac\n",
    "from cornac.eval_methods import RatioSplit\n",
    "from cornac.models import BPR, PMF\n",
    "from cornac.models import VAECF\n",
    "from cornac.metrics import Precision, Recall, RMSE, MAE\n",
    "\n",
    "\n",
    "# Instantiate a matrix factorization model (e.g., BPR)\n",
    "models = [\n",
    "    BPR(k=10, max_iter=200, learning_rate=0.001, lambda_reg=0.01, seed=123),\n",
    "    PMF(k=10, max_iter=100, learning_rate=0.001, lambda_reg=0.001, seed=123),\n",
    "    VAECF(k=10, use_gpu=False)\n",
    "]\n",
    "\n",
    "# Define metrics to evaluate the models\n",
    "metrics = [RMSE(), MAE(), Precision(k=10), Recall(k=10)]\n",
    "\n",
    "# Put it together in an experiment, voilà!\n",
    "cornac.Experiment(eval_method=rs, models=models, metrics=metrics, user_based=True).run()"
   ]
  },
  {
   "cell_type": "markdown",
   "id": "445cd13c",
   "metadata": {},
   "source": [
    "# Using User and Item Attributes"
   ]
  },
  {
   "cell_type": "code",
   "execution_count": 168,
   "id": "27cf951e",
   "metadata": {},
   "outputs": [],
   "source": [
    "import pandas as pd\n",
    "ratings = pd.read_csv('.surprise_data\\\\ml-100k\\\\ml-100k\\\\u.data', sep='\\t', header=None, names=['user_id', 'item_id', 'rating', 'timestamp'])\n",
    "ratings['timestamp_converted'] = pd.to_datetime(ratings['timestamp'], unit='s')\n",
    "ratings.sort_values(by=['user_id', 'timestamp'], inplace=True)\n",
    "ratings['seconds_since_previous_rating'] = ratings['timestamp'] - ratings.groupby(['user_id'])['timestamp'].shift(1)\n",
    "\n",
    "\n",
    "items = pd.read_csv('.surprise_data\\\\ml-100k\\\\ml-100k\\\\u.item', sep='|', header=None, encoding='latin1',\n",
    "            names=['item_id', 'movie_title', 'release_date', 'video_release_date', 'IMDb_URL', 'unknown', 'Action', 'Adventure', 'Animation', 'Childrens', 'Comedy', 'Crime', 'Documentary', 'Drama', 'Fantasy', 'Film-Noir', 'Horror', 'Musical', 'Mystery', 'Romance', 'Sci-Fi', 'Thriller', 'War', 'Western'])\n",
    "items['release_date_converted'] = pd.to_datetime(items['release_date'])\n",
    "#Calculates the release year relative to 1998 - date of the dataset\n",
    "items['release_year_rltv'] = 1998-items['release_date_converted'].dt.year \n",
    "\n",
    "users = pd.read_csv('.surprise_data\\\\ml-100k\\\\ml-100k\\\\u.user', sep='|', header=None, encoding='latin1',\n",
    "            names=['user_id', 'age', 'gender', 'occupation', 'zip_code'])\n",
    "#First Digit of the US zip code represents the a region group            \n",
    "users['zipcode_reduced'] = users['zip_code'].str[:1]"
   ]
  },
  {
   "cell_type": "code",
   "execution_count": 179,
   "id": "6501a3dc",
   "metadata": {},
   "outputs": [],
   "source": [
    "from cornac.data.text import TextModality\n",
    "\n",
    "# Genre columns only (exclude 'item_id')\n",
    "genre_cols = ['Action', 'Adventure', 'Animation', 'Childrens', 'Comedy', 'Crime', 'Documentary', 'Drama', 'Fantasy', 'Film-Noir', 'Horror', 'Musical', 'Mystery', 'Romance', 'Sci-Fi', 'Thriller', 'War', 'Western']\n",
    "\n",
    "# Extract genres for each row\n",
    "def genres_to_text(row):\n",
    "    return ' '.join(genre for genre in genre_cols if row[genre] == 1)\n",
    "\n",
    "items['genre_concat']=items.apply(genres_to_text, axis=1)\n",
    "\n",
    "\n",
    "# Item side info\n",
    "item_modality = TextModality(corpus=items['genre_concat'], ids=items.item_id)\n",
    "\n",
    "\n",
    "# User side info\n",
    "user_modality = TextModality(corpus=users.occupation, ids=users.user_id)"
   ]
  },
  {
   "cell_type": "code",
   "execution_count": 180,
   "id": "d108583e",
   "metadata": {},
   "outputs": [
    {
     "name": "stdout",
     "output_type": "stream",
     "text": [
      "rating_threshold = 4.0\n",
      "exclude_unknowns = False\n",
      "---\n",
      "Training data:\n",
      "Number of users = 943\n",
      "Number of items = 1657\n",
      "Number of ratings = 80000\n",
      "Max rating = 5.0\n",
      "Min rating = 1.0\n",
      "Global mean = 3.5\n",
      "---\n",
      "Test data:\n",
      "Number of users = 943\n",
      "Number of items = 1682\n",
      "Number of ratings = 20000\n",
      "Number of unknown users = 0\n",
      "Number of unknown items = 25\n",
      "---\n",
      "Total users = 943\n",
      "Total items = 1682\n",
      "\n",
      "[BPR] Training started!\n",
      "\n",
      "[BPR] Evaluation started!\n"
     ]
    },
    {
     "name": "stderr",
     "output_type": "stream",
     "text": [
      "Rating: 100%|██████████| 20000/20000 [00:00<00:00, 169320.77it/s]\n",
      "Ranking: 100%|██████████| 941/941 [00:03<00:00, 259.30it/s]\n"
     ]
    },
    {
     "name": "stdout",
     "output_type": "stream",
     "text": [
      "\n",
      "[PMF] Training started!\n",
      "\n",
      "[PMF] Evaluation started!\n"
     ]
    },
    {
     "name": "stderr",
     "output_type": "stream",
     "text": [
      "Rating: 100%|██████████| 20000/20000 [00:00<00:00, 131739.14it/s]\n",
      "Ranking: 100%|██████████| 941/941 [00:00<00:00, 6530.88it/s]\n"
     ]
    },
    {
     "name": "stdout",
     "output_type": "stream",
     "text": [
      "\n",
      "[VAECF] Training started!\n",
      "\n",
      "[VAECF] Evaluation started!\n"
     ]
    },
    {
     "name": "stderr",
     "output_type": "stream",
     "text": [
      "Rating: 100%|██████████| 20000/20000 [00:03<00:00, 5510.40it/s]\n",
      "Ranking: 100%|██████████| 941/941 [00:00<00:00, 2867.96it/s]"
     ]
    },
    {
     "name": "stdout",
     "output_type": "stream",
     "text": [
      "\n",
      "TEST:\n",
      "...\n",
      "      |    MAE |   RMSE | Precision@10 | Recall@10 | Train (s) | Test (s)\n",
      "----- + ------ + ------ + ------------ + --------- + --------- + --------\n",
      "BPR   | 2.0267 | 2.2380 |       0.1136 |    0.1164 |    1.3550 |   3.8298\n",
      "PMF   | 0.7542 | 0.9173 |       0.0775 |    0.0662 |    2.1656 |   0.3823\n",
      "VAECF | 2.5978 | 2.7903 |       0.1518 |    0.1681 |    9.8058 |   4.0414\n",
      "\n"
     ]
    },
    {
     "name": "stderr",
     "output_type": "stream",
     "text": [
      "\n"
     ]
    }
   ],
   "source": [
    "from cornac.data import Reader\n",
    "from cornac.eval_methods import BaseMethod\n",
    "from cornac.eval_methods import RatioSplit\n",
    "\n",
    "reader = Reader()\n",
    "data = ratings[['user_id', 'item_id', 'rating']].values.tolist()\n",
    "\n",
    "rs = RatioSplit(\n",
    "    data=data,\n",
    "    test_size=0.2,\n",
    "    rating_threshold=4, \n",
    "    user_text=user_modality,\n",
    "    item_text=item_modality,\n",
    "    exclude_unknowns=False,\n",
    "    verbose=True,\n",
    "    seed=123\n",
    ")\n",
    "\n",
    "models = [BPR(k=10, max_iter=200, learning_rate=0.001, lambda_reg=0.01, seed=123),\n",
    "            PMF(k=10, max_iter=100, learning_rate=0.001, lambda_reg=0.001, seed=123),\n",
    "            VAECF(k=10, use_gpu=False)]\n",
    "\n",
    "# Define metrics to evaluate the models\n",
    "metrics = [RMSE(), MAE(), Precision(k=10), Recall(k=10)]\n",
    "\n",
    "# Put it together in an experiment, voilà!\n",
    "cornac.Experiment(eval_method=rs, models=models, metrics=metrics, user_based=True).run()"
   ]
  },
  {
   "cell_type": "code",
   "execution_count": 181,
   "id": "4c143f54",
   "metadata": {},
   "outputs": [
    {
     "name": "stdout",
     "output_type": "stream",
     "text": [
      "[50, 100, 181, 258, 174, 1, 121, 294, 288, 286, 56, 98, 127, 172, 7, 204, 237, 300, 117, 222, 79, 405, 210, 69, 151, 168, 173, 22, 118, 313, 216, 234, 96, 423, 15, 176, 257, 25, 183, 195, 318, 9, 276, 89, 202, 28, 97, 269, 748, 328, 191, 135, 302, 186, 64, 111, 82, 12, 70, 742, 238, 153, 357, 228, 268, 194, 546, 275, 655, 197, 11, 289, 196, 125, 265, 132, 483, 143, 568, 144, 245, 333, 475, 323, 385, 282, 185, 301, 182, 435, 508, 471, 71, 603, 95, 215, 4, 161, 187, 88, 235, 678, 427, 180, 273, 496, 175, 403, 179, 597, 271, 322, 211, 527, 284, 8, 474, 250, 479, 200, 230, 124, 393, 209, 588, 23, 515, 208, 134, 274, 566, 298, 732, 272, 203, 99, 591, 480, 58, 13, 433, 751, 147, 283, 340, 226, 307, 24, 511, 83, 133, 651, 419, 628, 154, 137, 582, 367, 188, 14, 692, 319, 229, 410, 255, 451, 845, 326, 739, 514, 472, 218, 432, 402, 259, 411, 498, 327, 523, 199, 443, 252, 685, 321, 66, 1028, 248, 164, 227, 31, 476, 684, 193, 315, 285, 55, 239, 42, 240, 205, 654, 1016, 77, 550, 293, 86, 763, 484, 231, 94, 332, 462, 68, 213, 660, 223, 156, 347, 150, 87, 91, 1047, 735, 304, 53, 559, 310, 281, 690, 455, 756, 879, 358, 270, 520, 485, 2, 249, 177, 431, 47, 750, 148, 243, 178, 198, 303, 260, 73, 72, 526, 170, 291, 504, 62, 343, 157, 169, 510, 447, 418, 482, 509, 116, 233, 81, 109, 531, 325, 705, 242, 762, 449, 528, 657, 219, 866, 217, 48, 192, 380, 65, 596, 38, 184, 521, 241, 501, 346, 93, 225, 408, 747, 663, 123, 324, 473, 190, 631, 316, 54, 292, 708, 129, 246, 29, 122, 428, 381, 378, 815, 92, 214, 421, 382, 746, 659, 67, 682, 679, 159, 926, 554, 331, 126, 232, 1014, 404, 356, 162, 136, 264, 1012, 52, 895, 665, 470, 709, 317, 290, 412, 919, 507, 430, 212, 477, 478, 163, 642, 436, 576, 720, 429, 652, 699, 155, 1011, 549, 399, 928, 831, 131, 3, 17, 529, 781, 10, 689, 673, 744, 448, 517, 201, 306, 823, 873, 661, 578, 44, 755, 465, 820, 45, 33, 90, 518, 506, 1039, 280, 152, 629, 717, 625, 710, 871, 458, 693, 736, 930, 59, 715, 386, 21, 5, 636, 105, 729, 49, 662, 792, 604, 519, 988, 39, 420, 640, 924, 530, 305, 287, 658, 425, 724, 826, 312, 1101, 778, 311, 513, 825, 544, 707, 584, 676, 295, 401, 299, 338, 101, 1035, 417, 32, 63, 221, 505, 277, 1048, 461, 409, 1074, 334, 687, 627, 969, 141, 993, 647, 949, 120, 727, 20, 354, 106, 434, 864, 392, 1009, 145, 384, 497, 51, 538, 262, 696, 855, 898, 371, 416, 525, 114, 934, 713, 740, 167, 491, 220, 633, 19, 165, 650, 387, 493, 26, 345, 569, 487, 160, 607, 595, 207, 61, 158, 486, 648, 469, 558, 450, 499, 452, 1041, 344, 741, 780, 140, 606, 481, 512, 672, 80, 553, 495, 108, 463, 946, 60, 615, 189, 414, 619, 468, 488, 492, 1073, 76, 254, 790, 737, 959, 561, 931, 171, 342, 813, 616, 827, 391, 581, 395, 609, 887, 939, 40, 754, 632, 128, 278, 166, 892, 768, 27, 516, 535, 847, 142, 770, 1065, 875, 722, 1017, 833, 721, 369, 683, 675, 716, 244, 614, 85, 396, 602, 877, 441, 139, 841, 849, 806, 840, 456, 502, 466, 923, 880, 977, 406, 494, 542, 379, 102, 1119, 728, 570, 562, 339, 1118, 772, 413, 489, 490, 297, 444, 876, 363, 886, 1046, 824, 955, 251, 671, 952, 956, 794, 547, 649, 206, 760, 749, 224, 1025, 810, 702, 330, 902, 769, 365, 107, 944, 1079, 524, 467, 407, 921, 975, 881, 984, 789, 809, 731, 1142, 620, 932, 752, 1197, 1007, 712, 771, 743, 900, 688, 540, 370, 575, 1067, 639, 694, 236, 890, 1228, 336, 686, 329, 610, 350, 1210, 1188, 1060, 942, 638, 541, 874, 57, 941, 872, 1091, 945, 1134, 656, 674, 552, 948, 589, 1089, 366, 844, 846, 1135, 355, 664, 30, 623, 819, 1221, 1063, 1051, 896, 963, 646, 1098, 261, 1050, 929, 785, 951, 539, 577, 585, 1217, 761, 961, 622, 41, 1010, 266, 349, 43, 586, 16, 1566, 1663, 1309, 1110, 1364, 364, 1557, 1542, 1452, 1519, 943, 1632, 1595, 1453, 1021, 567, 1665, 1533, 1551, 1520, 1349, 1673, 1682, 711, 1515, 1648, 1630, 677, 1577, 937, 1654, 644, 670, 78, 1090, 1013, 1132, 1008, 878, 1020, 583, 989, 936, 1059, 611, 783, 637, 922, 829, 1267, 373, 368, 697, 1061, 796, 1244, 503, 995, 856, 882, 680, 1215, 1137, 1226, 971, 383, 774, 372, 925, 308, 950, 979, 608, 1411, 779, 1115, 500, 1019, 653, 572, 797, 765, 460, 1044, 537, 612, 1023, 1018, 309, 974, 1095, 348, 802, 990, 522, 991, 641, 389, 426, 1033, 580, 905, 573, 738, 605, 362, 630, 1022, 457, 1149, 808, 398, 46, 775, 388, 1126, 1220, 764, 1218, 415, 681, 1037, 1152, 1049, 1109, 834, 110, 734, 375, 940, 1045, 1157, 551, 972, 613, 842, 1315, 634, 1054, 352, 1070, 978, 938, 1040, 1139, 1034, 723, 571, 1240, 1170, 6, 1194, 704, 960, 1057, 1136, 758, 719, 906, 1053, 1199, 837, 563, 832, 1133, 843, 836, 532, 1176, 966, 1042, 1284, 1113, 645, 863, 565, 805, 459, 279, 1222, 1296, 730, 422, 821, 1005, 818, 424, 130, 1078, 1052, 635, 795, 703, 149, 376, 1129, 1231, 1084, 1208, 601, 800, 1183, 869, 985, 1036, 1258, 320, 753, 1121, 1265, 904, 965, 1407, 1093, 933, 335, 980, 1117, 1160, 1283, 1203, 564, 445, 1086, 1030, 464, 1006, 138, 811, 560, 1168, 1230, 1232, 962, 691, 1245, 865, 1147, 253, 112, 1103, 982, 359, 1178, 1248, 816, 916, 1069, 862, 812, 263, 590, 908, 947, 543, 968, 1163, 1280, 1097, 256, 400, 1153, 1120, 617, 1071, 1207, 986, 854, 860, 1105, 579, 1032, 337, 1303, 894, 859, 903, 773, 84, 1066, 1277, 726, 1038, 953, 1285, 997, 718, 883, 1204, 998, 453, 1478, 1209, 1088, 1058, 1444, 1219, 901, 351, 893, 1001, 983, 353, 1286, 1029, 1024, 745, 557, 1112, 1401, 533, 787, 454, 1281, 624, 835, 915, 1263, 888, 1225, 1451, 397, 1483, 1140, 1297, 1273, 1165, 618, 1206, 1127, 1143, 1187, 1167, 103, 885, 1159, 377, 801, 1211, 1182, 1239, 1172, 1099, 1107, 1190, 786, 853, 1185, 767, 1092, 587, 146, 440, 669, 700, 695, 725, 1291, 914, 1615, 1171, 574, 909, 115, 1094, 733, 545, 889, 374, 361, 1404, 1469, 1124, 1313, 1311, 1085, 1434, 701, 996, 1062, 1229, 1278, 1195, 534, 1224, 555, 593, 1393, 394, 828, 958, 341, 1154, 1087, 1503, 899, 1252, 1335, 1192, 592, 390, 1421, 1419, 1446, 912, 1400, 556, 1055, 36, 1428, 1266, 1202, 360, 791, 267, 1193, 1161, 967, 1131, 1298, 1415, 536, 1337, 1274, 1620, 1116, 954, 1214, 1314, 1524, 1128, 994, 1254, 807, 1279, 793, 1295, 1003, 1004, 1475, 1180, 113, 1150, 1425, 1200, 714, 1056, 1166, 1305, 935, 1000, 1282, 759, 446, 1173, 1300, 1294, 1480, 1077, 1249, 1312, 667, 1227, 1100, 970, 1269, 1471, 1276, 1174, 1081, 1527, 1177, 1015, 776, 798, 1253, 698, 1534, 548, 1439, 1255, 917, 918, 1288, 976, 1268, 1169, 804, 35, 1264, 1426, 1598, 766, 1299, 621, 1114, 1381, 1316, 1514, 1437, 1250, 1449, 18, 782, 1474, 1388, 1179, 1468, 1141, 1145, 981, 1336, 1072, 1205, 1262, 1454, 1043, 1459, 1246, 1473, 1518, 1368, 927, 1075, 1289, 1238, 1456, 1531, 1322, 1270, 1441, 1413, 1151, 964, 1234, 999, 1512, 1243, 1435, 1237, 1540, 1558, 1386, 1213, 1555, 1591, 1394, 1175, 1470, 706, 1409, 870, 1241, 1353, 1395, 1462, 1272, 1164, 1383, 1375, 1002, 1495, 1376, 1148, 1082, 668, 1233, 1102, 1597, 74, 1301, 1487, 438, 1068, 1184, 1397, 1379, 314, 1427, 1212, 1271, 1406, 1076, 1026, 437, 1517, 1522, 1181, 37, 1251, 1438, 1511, 1259, 439, 1198, 1216, 1287, 1396, 1275, 1377, 1108, 1431, 884, 1247, 1479, 1083, 1442, 799, 1328, 1138, 973, 987, 1405, 1521, 1410, 1589, 1347, 1592, 1380, 1162, 1331, 1488, 1423, 848, 867, 1529, 1330, 1260, 1412, 1537, 1104, 1489, 1293, 868, 1369, 1317, 920, 626, 34, 910, 1346, 1106, 1485, 1560, 891, 803, 1499, 1416, 1111, 1223, 1327, 850, 777, 1652, 1392, 1402, 1607, 1466, 1302, 1355, 1622, 1399, 1545, 1191, 838, 1125, 1357, 817, 119, 1612, 1501, 1155, 992, 1544, 1367, 1609, 1464, 1324, 442, 1513, 1430, 1496, 1628, 1189, 1242, 1465, 839, 1319, 1429, 1605, 1387, 104, 1484, 1361, 1445, 1385, 822, 1146, 1432, 1643, 1528, 1664, 1382, 1506, 1378, 1372, 594, 1027, 296, 1602, 1530, 1031, 1391, 1318, 1158, 598, 1440, 911, 1292, 1535, 1623, 1509, 1257, 1420, 666, 1516, 1538, 788, 1196, 1356, 1600, 1611, 1144, 1539, 1481, 1656, 1186, 1064, 1422, 1359, 1500, 1256, 1594, 1672, 1360, 1362, 1344, 1450, 75, 1350, 1547, 1662, 1617, 1658, 1443, 1433, 1354, 1541, 1472, 1463, 1096, 1523, 1080, 1403, 907, 1639, 1261, 1436, 1321, 1304, 1358, 1491, 247, 858, 957, 1642, 1323, 1448, 1326, 1417, 1554, 1504, 600, 1467, 1553, 1306, 1307, 1610, 897, 851, 1556, 1370, 1408, 1502, 1585, 1389, 1365, 1333, 1338, 1290, 1497, 1424, 861, 1552, 1578, 1490, 1123, 913, 1629, 1156, 1332, 1508, 1625, 1581, 1593, 1543, 830, 1345, 1573, 1670, 757, 1122, 814, 1366, 1564, 1418, 1667, 1477, 1613, 1626, 1325, 1414, 1616, 1674, 1651, 1201, 1348, 1646, 1644, 1310, 1668, 1624, 1660, 1649, 1548, 1341, 1455, 1678, 1570, 1363, 1679, 1655, 1352, 1621, 1390, 1603, 1507, 1650, 1130, 1536, 1571, 1572, 1671, 852, 1604, 1596, 1608, 1590, 1675, 1398, 1582, 1374, 1235, 1587, 1525, 1461, 1510, 1532, 1666, 1371, 1320, 1635, 1373, 1569, 1339, 1334, 1340, 1236, 1653, 1343, 1606, 1567, 1505, 1680, 1568, 1677, 1486, 1476, 1576, 1329, 1588, 599, 1384, 1637, 1661, 1627, 1575, 1601, 1492, 1599, 1494, 1561, 1580, 1669, 1681, 1631, 1618, 1659, 1458, 643, 1563, 1498, 1565, 1638, 1584, 1614, 1482, 1640, 1351, 1574, 1342, 1559, 1460, 1641, 1645, 1586, 1457, 1546, 1550, 1447, 1308, 1676, 1583, 1562, 1636, 857, 1657, 1634, 1619, 1526, 1647, 1633, 1579, 784, 1493, 1549]\n"
     ]
    }
   ],
   "source": [
    "# Get recommendations for user id 4\n",
    "user_id = 943\n",
    "recommended_items = models[0].recommend(user_id)\n",
    "\n",
    "# Print the recommended items\n",
    "print(recommended_items)"
   ]
  },
  {
   "cell_type": "code",
   "execution_count": null,
   "id": "be21d182",
   "metadata": {},
   "outputs": [
    {
     "data": {
      "text/plain": [
       "208"
      ]
     },
     "execution_count": 162,
     "metadata": {},
     "output_type": "execute_result"
    }
   ],
   "source": [
    "# Converts user_id to user_idx\n",
    "rs.train_set.uid_map[943]\n",
    "\n",
    "# Converts item_id to item_idx\n",
    "rs.train_set.iid_map[568]\n"
   ]
  },
  {
   "cell_type": "code",
   "execution_count": 163,
   "id": "a271be86",
   "metadata": {},
   "outputs": [
    {
     "name": "stdout",
     "output_type": "stream",
     "text": [
      "[ 208  173  558 ... 1665 1666 1079] [2.10545328e-03 6.10579213e-04 1.19763112e-03 ... 1.87070018e-05\n",
      " 2.30123223e-05 6.90273555e-06]\n"
     ]
    }
   ],
   "source": [
    "print(ranked_items, item_scores)"
   ]
  },
  {
   "cell_type": "code",
   "execution_count": 182,
   "id": "ebb10ceb",
   "metadata": {},
   "outputs": [
    {
     "data": {
      "text/html": [
       "<div>\n",
       "<style scoped>\n",
       "    .dataframe tbody tr th:only-of-type {\n",
       "        vertical-align: middle;\n",
       "    }\n",
       "\n",
       "    .dataframe tbody tr th {\n",
       "        vertical-align: top;\n",
       "    }\n",
       "\n",
       "    .dataframe thead th {\n",
       "        text-align: right;\n",
       "    }\n",
       "</style>\n",
       "<table border=\"1\" class=\"dataframe\">\n",
       "  <thead>\n",
       "    <tr style=\"text-align: right;\">\n",
       "      <th></th>\n",
       "      <th>item_id</th>\n",
       "      <th>movie_title</th>\n",
       "    </tr>\n",
       "  </thead>\n",
       "  <tbody>\n",
       "    <tr>\n",
       "      <th>0</th>\n",
       "      <td>181</td>\n",
       "      <td>Return of the Jedi (1983)</td>\n",
       "    </tr>\n",
       "    <tr>\n",
       "      <th>1</th>\n",
       "      <td>258</td>\n",
       "      <td>Contact (1997)</td>\n",
       "    </tr>\n",
       "    <tr>\n",
       "      <th>2</th>\n",
       "      <td>1</td>\n",
       "      <td>Toy Story (1995)</td>\n",
       "    </tr>\n",
       "    <tr>\n",
       "      <th>3</th>\n",
       "      <td>294</td>\n",
       "      <td>Liar Liar (1997)</td>\n",
       "    </tr>\n",
       "    <tr>\n",
       "      <th>4</th>\n",
       "      <td>288</td>\n",
       "      <td>Scream (1996)</td>\n",
       "    </tr>\n",
       "    <tr>\n",
       "      <th>5</th>\n",
       "      <td>286</td>\n",
       "      <td>English Patient, The (1996)</td>\n",
       "    </tr>\n",
       "    <tr>\n",
       "      <th>6</th>\n",
       "      <td>56</td>\n",
       "      <td>Pulp Fiction (1994)</td>\n",
       "    </tr>\n",
       "    <tr>\n",
       "      <th>7</th>\n",
       "      <td>7</td>\n",
       "      <td>Twelve Monkeys (1995)</td>\n",
       "    </tr>\n",
       "    <tr>\n",
       "      <th>8</th>\n",
       "      <td>204</td>\n",
       "      <td>Back to the Future (1985)</td>\n",
       "    </tr>\n",
       "    <tr>\n",
       "      <th>9</th>\n",
       "      <td>237</td>\n",
       "      <td>Jerry Maguire (1996)</td>\n",
       "    </tr>\n",
       "  </tbody>\n",
       "</table>\n",
       "</div>"
      ],
      "text/plain": [
       "   item_id                  movie_title\n",
       "0      181    Return of the Jedi (1983)\n",
       "1      258               Contact (1997)\n",
       "2        1             Toy Story (1995)\n",
       "3      294             Liar Liar (1997)\n",
       "4      288                Scream (1996)\n",
       "5      286  English Patient, The (1996)\n",
       "6       56          Pulp Fiction (1994)\n",
       "7        7        Twelve Monkeys (1995)\n",
       "8      204    Back to the Future (1985)\n",
       "9      237         Jerry Maguire (1996)"
      ]
     },
     "execution_count": 182,
     "metadata": {},
     "output_type": "execute_result"
    }
   ],
   "source": [
    "user_id = 943\n",
    "\n",
    "selected_model = models[0]\n",
    "\n",
    "# Get the ranked items and their scores for the user, does not remove seen items, returned items are on item_idx, need to convert to item_id\n",
    "(ranked_items, item_scores) = selected_model.rank(user_idx=rs.train_set.uid_map[user_id], k=10)\n",
    "\n",
    "#(ranked_items, item_scores) = selected_model.rank(user_id, k=10)\n",
    "\n",
    "recommendations = selected_model.recommend(user_id, train_set=rs.train_set, remove_seen=True, k=10)\n",
    "\n",
    "pd.DataFrame([(item, items[items.item_id==item].movie_title.values[0]) for item in recommendations], columns=['item_id', 'movie_title'])"
   ]
  },
  {
   "cell_type": "code",
   "execution_count": null,
   "id": "c6a1433b",
   "metadata": {},
   "outputs": [],
   "source": []
  }
 ],
 "metadata": {
  "kernelspec": {
   "display_name": ".venv",
   "language": "python",
   "name": "python3"
  },
  "language_info": {
   "codemirror_mode": {
    "name": "ipython",
    "version": 3
   },
   "file_extension": ".py",
   "mimetype": "text/x-python",
   "name": "python",
   "nbconvert_exporter": "python",
   "pygments_lexer": "ipython3",
   "version": "3.9.21"
  }
 },
 "nbformat": 4,
 "nbformat_minor": 5
}
